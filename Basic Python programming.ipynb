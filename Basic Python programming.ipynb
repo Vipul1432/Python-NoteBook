{
 "cells": [
  {
   "cell_type": "markdown",
   "id": "133c3d5e",
   "metadata": {
    "scrolled": true
   },
   "source": [
    "# Python Basic Programming"
   ]
  },
  {
   "cell_type": "code",
   "execution_count": 29,
   "id": "5eba3b24",
   "metadata": {},
   "outputs": [
    {
     "name": "stdout",
     "output_type": "stream",
     "text": [
      " Hi \n"
     ]
    }
   ],
   "source": [
    "print(\" Hi \")"
   ]
  },
  {
   "cell_type": "code",
   "execution_count": 6,
   "id": "b0eb51e7",
   "metadata": {},
   "outputs": [
    {
     "name": "stdout",
     "output_type": "stream",
     "text": [
      "4hi\n"
     ]
    }
   ],
   "source": [
    "x=str(4)\n",
    "y='hi'\n",
    "\n",
    "print(x+y)"
   ]
  },
  {
   "cell_type": "code",
   "execution_count": 1,
   "id": "3d3c4058",
   "metadata": {
    "scrolled": true
   },
   "outputs": [
    {
     "name": "stdout",
     "output_type": "stream",
     "text": [
      "<class 'int'>\n",
      "<class 'int'>\n",
      "<class 'int'>\n"
     ]
    }
   ],
   "source": [
    "x = 1\n",
    "y = 35656222554887711\n",
    "z = -3255522\n",
    "\n",
    "print(type(x))\n",
    "print(type(y))\n",
    "print(type(z))"
   ]
  },
  {
   "cell_type": "code",
   "execution_count": 2,
   "id": "e0c70d81",
   "metadata": {},
   "outputs": [
    {
     "name": "stdout",
     "output_type": "stream",
     "text": [
      "<class 'complex'>\n",
      "<class 'complex'>\n",
      "<class 'complex'>\n"
     ]
    }
   ],
   "source": [
    "x = 3+5j\n",
    "y = 5j\n",
    "z = -5j\n",
    "\n",
    "print(type(x))\n",
    "print(type(y))\n",
    "print(type(z))"
   ]
  },
  {
   "cell_type": "code",
   "execution_count": 3,
   "id": "a1538fde",
   "metadata": {},
   "outputs": [
    {
     "name": "stdout",
     "output_type": "stream",
     "text": [
      "1.0\n",
      "2\n",
      "(1+0j)\n",
      "<class 'float'>\n",
      "<class 'int'>\n",
      "<class 'complex'>\n"
     ]
    }
   ],
   "source": [
    "x = 1    # int\n",
    "y = 2.8  # float\n",
    "z = 1j   # complex\n",
    "\n",
    "#convert from int to float:\n",
    "a = float(x)\n",
    "\n",
    "#convert from float to int:\n",
    "b = int(y)\n",
    "\n",
    "#convert from int to complex:\n",
    "c = complex(x)\n",
    "\n",
    "print(a)\n",
    "print(b)\n",
    "print(c)\n",
    "\n",
    "print(type(a))\n",
    "print(type(b))\n",
    "print(type(c))"
   ]
  },
  {
   "cell_type": "code",
   "execution_count": 8,
   "id": "c7cdf19e",
   "metadata": {},
   "outputs": [
    {
     "name": "stdout",
     "output_type": "stream",
     "text": [
      "9\n"
     ]
    }
   ],
   "source": [
    "import random\n",
    "\n",
    "print(random.randrange(1, 10))"
   ]
  },
  {
   "cell_type": "code",
   "execution_count": 9,
   "id": "4077a1de",
   "metadata": {},
   "outputs": [
    {
     "name": "stdout",
     "output_type": "stream",
     "text": [
      "(5+0j)\n"
     ]
    }
   ],
   "source": [
    "x = 5\n",
    "y = complex(x)\n",
    "print(y)"
   ]
  },
  {
   "cell_type": "code",
   "execution_count": 10,
   "id": "e6e3aa32",
   "metadata": {},
   "outputs": [
    {
     "name": "stdout",
     "output_type": "stream",
     "text": [
      "Lorem ipsum dolor sit amet,\n",
      "consectetur adipiscing elit,\n",
      "sed do eiusmod tempor incididunt\n",
      "ut labore et dolore magna aliqua.\n"
     ]
    }
   ],
   "source": [
    "a = \"\"\"Lorem ipsum dolor sit amet,\n",
    "consectetur adipiscing elit,\n",
    "sed do eiusmod tempor incididunt\n",
    "ut labore et dolore magna aliqua.\"\"\"\n",
    "print(a)"
   ]
  },
  {
   "cell_type": "code",
   "execution_count": 11,
   "id": "bf16e806",
   "metadata": {},
   "outputs": [
    {
     "name": "stdout",
     "output_type": "stream",
     "text": [
      "e\n"
     ]
    }
   ],
   "source": [
    "a = \"Hello, World!\"\n",
    "print(a[1])"
   ]
  },
  {
   "cell_type": "code",
   "execution_count": 12,
   "id": "580cd3ce",
   "metadata": {},
   "outputs": [
    {
     "name": "stdout",
     "output_type": "stream",
     "text": [
      "b\n",
      "a\n",
      "n\n",
      "a\n",
      "n\n",
      "a\n"
     ]
    }
   ],
   "source": [
    "for x in \"banana\":\n",
    "  print(x)"
   ]
  },
  {
   "cell_type": "code",
   "execution_count": 14,
   "id": "38011905",
   "metadata": {},
   "outputs": [
    {
     "name": "stdout",
     "output_type": "stream",
     "text": [
      "13\n"
     ]
    }
   ],
   "source": [
    "a = \"Hello, World!\"\n",
    "print(len(a))"
   ]
  },
  {
   "cell_type": "markdown",
   "id": "6ec52a5a",
   "metadata": {},
   "source": [
    "To check if a certain phrase or character is present in a string, we can use the keyword in.\n",
    "\n"
   ]
  },
  {
   "cell_type": "code",
   "execution_count": 19,
   "id": "6412323c",
   "metadata": {},
   "outputs": [
    {
     "name": "stdout",
     "output_type": "stream",
     "text": [
      "False\n"
     ]
    }
   ],
   "source": [
    "\n",
    "txt = \"The best things in life are free!\"\n",
    "print(\"frea\" in txt)\n"
   ]
  },
  {
   "cell_type": "code",
   "execution_count": 20,
   "id": "a8bcf361",
   "metadata": {
    "scrolled": true
   },
   "outputs": [
    {
     "name": "stdout",
     "output_type": "stream",
     "text": [
      "Yes, 'free' is present.\n"
     ]
    }
   ],
   "source": [
    "txt = \"The best things in life are free!\"\n",
    "if \"free\" in txt:\n",
    "  print(\"Yes, 'free' is present.\")"
   ]
  },
  {
   "cell_type": "markdown",
   "id": "7b906897",
   "metadata": {},
   "source": [
    "# #Slicing :-\n",
    "    "
   ]
  },
  {
   "cell_type": "markdown",
   "id": "41dbf39a",
   "metadata": {},
   "source": [
    "the start index and the end index, separated by a colon, to return a part of the string"
   ]
  },
  {
   "cell_type": "code",
   "execution_count": 21,
   "id": "aa35095a",
   "metadata": {},
   "outputs": [
    {
     "name": "stdout",
     "output_type": "stream",
     "text": [
      "llo\n"
     ]
    }
   ],
   "source": [
    "b = \"Hello, World!\"\n",
    "print(b[2:5])"
   ]
  },
  {
   "cell_type": "markdown",
   "id": "14f67da8",
   "metadata": {},
   "source": [
    "leaving out the start index, the range will start at the first character"
   ]
  },
  {
   "cell_type": "code",
   "execution_count": 22,
   "id": "c3078b7c",
   "metadata": {
    "scrolled": true
   },
   "outputs": [
    {
     "name": "stdout",
     "output_type": "stream",
     "text": [
      "Hello\n"
     ]
    }
   ],
   "source": [
    "b = \"Hello, World!\"\n",
    "print(b[:5])"
   ]
  },
  {
   "cell_type": "markdown",
   "id": "467b55b8",
   "metadata": {},
   "source": [
    "leaving out the end index, the range will go to the end"
   ]
  },
  {
   "cell_type": "markdown",
   "id": "34ed4b7a",
   "metadata": {},
   "source": [
    "## Negative Indexing :-"
   ]
  },
  {
   "cell_type": "markdown",
   "id": "0c885478",
   "metadata": {},
   "source": [
    "## Python - Modify Strings\n",
    "## Upper Case :-\n"
   ]
  },
  {
   "cell_type": "code",
   "execution_count": 25,
   "id": "aaa5c0f4",
   "metadata": {},
   "outputs": [
    {
     "name": "stdout",
     "output_type": "stream",
     "text": [
      "HELLO, WORLD!\n"
     ]
    }
   ],
   "source": [
    "a = \"Hello, World!\"\n",
    "print(a.upper())"
   ]
  },
  {
   "cell_type": "markdown",
   "id": "b19ab58f",
   "metadata": {},
   "source": [
    "## Lower Case"
   ]
  },
  {
   "cell_type": "code",
   "execution_count": 30,
   "id": "a382e243",
   "metadata": {},
   "outputs": [
    {
     "name": "stdout",
     "output_type": "stream",
     "text": [
      "hello, world!\n"
     ]
    }
   ],
   "source": [
    "a = \"Hello, World!\"\n",
    "print(a.lower())"
   ]
  },
  {
   "cell_type": "code",
   "execution_count": null,
   "id": "9fdea34e",
   "metadata": {},
   "outputs": [],
   "source": []
  },
  {
   "cell_type": "markdown",
   "id": "8019f493",
   "metadata": {},
   "source": [
    "## Remove Whitespace :-"
   ]
  },
  {
   "cell_type": "markdown",
   "id": "ba2169a5",
   "metadata": {},
   "source": [
    "The strip() method removes any whitespace from the beginning or the end"
   ]
  },
  {
   "cell_type": "code",
   "execution_count": 28,
   "id": "a1bb86fb",
   "metadata": {},
   "outputs": [
    {
     "name": "stdout",
     "output_type": "stream",
     "text": [
      "Hello, World!\n"
     ]
    }
   ],
   "source": [
    "a = \" Hello, World! \"\n",
    "print(a.strip())"
   ]
  },
  {
   "cell_type": "markdown",
   "id": "bee14c5c",
   "metadata": {},
   "source": [
    "## Replace String"
   ]
  },
  {
   "cell_type": "code",
   "execution_count": 34,
   "id": "5d230f37",
   "metadata": {},
   "outputs": [
    {
     "name": "stdout",
     "output_type": "stream",
     "text": [
      "Jello, World!\n"
     ]
    }
   ],
   "source": [
    "a = \"Hello, World!\"\n",
    "print(a.replace(\"H\", \"J\"))"
   ]
  },
  {
   "cell_type": "markdown",
   "id": "c80ec141",
   "metadata": {},
   "source": [
    "## Split String"
   ]
  },
  {
   "cell_type": "markdown",
   "id": "cbb70c3d",
   "metadata": {},
   "source": [
    "The split() method splits the string into substrings if it finds instances of the separator"
   ]
  },
  {
   "cell_type": "code",
   "execution_count": 36,
   "id": "6704966c",
   "metadata": {},
   "outputs": [
    {
     "name": "stdout",
     "output_type": "stream",
     "text": [
      "['He', '', 'o, Wor', 'd!']\n"
     ]
    }
   ],
   "source": [
    "a = \"Hello, World!\"\n",
    "print(a.split(\"l\"))"
   ]
  },
  {
   "cell_type": "markdown",
   "id": "80d3de48",
   "metadata": {},
   "source": [
    "## String Concatenation"
   ]
  },
  {
   "cell_type": "code",
   "execution_count": 39,
   "id": "de13f887",
   "metadata": {},
   "outputs": [
    {
     "name": "stdout",
     "output_type": "stream",
     "text": [
      "HelloWorld\n"
     ]
    }
   ],
   "source": [
    "a = \"Hello\"\n",
    "b = \"World\"\n",
    "c = a + b\n",
    "print(c)"
   ]
  },
  {
   "cell_type": "code",
   "execution_count": 40,
   "id": "ac838ea3",
   "metadata": {},
   "outputs": [
    {
     "name": "stdout",
     "output_type": "stream",
     "text": [
      "Hello World\n"
     ]
    }
   ],
   "source": [
    "a = \"Hello\"\n",
    "b = \"World\"\n",
    "c = a + \" \" + b\n",
    "print(c)"
   ]
  },
  {
   "cell_type": "markdown",
   "id": "f9a12446",
   "metadata": {},
   "source": [
    "## String Format"
   ]
  },
  {
   "cell_type": "markdown",
   "id": "8e4f8041",
   "metadata": {},
   "source": [
    "The format() method takes the passed arguments, formats them, and places them in the string where the placeholders {} are :-"
   ]
  },
  {
   "cell_type": "code",
   "execution_count": 41,
   "id": "b9247437",
   "metadata": {},
   "outputs": [
    {
     "name": "stdout",
     "output_type": "stream",
     "text": [
      "My name is Vipul, and I am 21\n"
     ]
    }
   ],
   "source": [
    "age = 21\n",
    "txt = \"My name is Vipul, and I am {}\"\n",
    "print(txt.format(age))"
   ]
  },
  {
   "cell_type": "markdown",
   "id": "f178275e",
   "metadata": {},
   "source": [
    "Using index numbers {0} to be sure the arguments are placed in the correct placeholders :-"
   ]
  },
  {
   "cell_type": "code",
   "execution_count": 43,
   "id": "a91a91b6",
   "metadata": {},
   "outputs": [
    {
     "name": "stdout",
     "output_type": "stream",
     "text": [
      "I want to pay 49.95 dollars for 3 pieces of itemno 567.\n"
     ]
    }
   ],
   "source": [
    "quantity = 3\n",
    "itemno = 567\n",
    "price = 49.95\n",
    "myorder = \"I want to pay {2} dollars for {0} pieces of itemno {1}.\"\n",
    "print(myorder.format(quantity, itemno, price))"
   ]
  },
  {
   "cell_type": "markdown",
   "id": "9a405897",
   "metadata": {},
   "source": [
    "## Escape Character"
   ]
  },
  {
   "cell_type": "markdown",
   "id": "ee901539",
   "metadata": {},
   "source": [
    "<!-- \\'      \tSingle Quote\t\n",
    "\\\\      \tBackslash\t\n",
    "\\n      \tNew Line\t\n",
    "\\r      \tCarriage Return\t\n",
    "\\t      \tTab\t\n",
    "\\b      \tBackspace\t\n",
    "\\f      \tForm Feed\t\n",
    "\\ooo    \tOctal value\t\n",
    "\\xhh    \tHex value -->"
   ]
  },
  {
   "cell_type": "code",
   "execution_count": 44,
   "id": "d1b87330",
   "metadata": {},
   "outputs": [],
   "source": [
    "#\\'    \tSingle Quote\t\n",
    "#\\\\\t    Backslash\t\n",
    "#\\n\t    New Line\t\n",
    "#\\r\t    Carriage Return\t\n",
    "#\\t\t    Tab \t\n",
    "#\\b\t    Backspace\t\n",
    "#\\f\t    Form Feed\t\n",
    "#\\ooo\tOctal value\t\n",
    "#\\xhh\tHex value"
   ]
  },
  {
   "cell_type": "code",
   "execution_count": 46,
   "id": "5345cacf",
   "metadata": {},
   "outputs": [
    {
     "name": "stdout",
     "output_type": "stream",
     "text": [
      "We are the so-called \"Vikings\" from the north.\n"
     ]
    }
   ],
   "source": [
    "txt = \"We are the so-called \\\"Vikings\\\" from the north.\"\n",
    "print(txt)"
   ]
  },
  {
   "cell_type": "markdown",
   "id": "dd5cc74c",
   "metadata": {},
   "source": [
    "## Python - String Methods :-\n"
   ]
  },
  {
   "cell_type": "markdown",
   "id": "96e474b5",
   "metadata": {},
   "source": [
    "                                                         \n",
    "### capitalize()\t  \n",
    "        Converts the first character to upper case\n",
    "### casefold()\t\n",
    "        Converts string into lower case\n",
    "### center()\t                           \n",
    "        Returns a centered string\n",
    "### count()\t\n",
    "        Returns the number of times a specified value occurs in a string\n",
    "### encode()\t \n",
    "        Returns an encoded version of the string\n",
    "### endswith()\t\n",
    "        Returns true if the string ends with the specified value\n",
    "### expandtabs()\t  \n",
    "        Sets the tab size of the string\n",
    "### find()\t\n",
    "        Searches the string for a specified value and returns the position of where it was found\n",
    "### format()\t\n",
    "        Formats specified values in a string\n",
    "### format_map()\t \n",
    "        Formats specified values in a string\n",
    "### index()\t \n",
    "        Searches the string for a specified value and returns the position of where it was found\n",
    "### isalnum()\t\n",
    "        Returns True if all characters in the string are alphanumeric\n",
    "### isalpha()\t \n",
    "        Returns True if all characters in the string are in the alphabet\n",
    "### isdecimal()\t\n",
    "        Returns True if all characters in the string are decimals\n",
    "### isdigit()\n",
    "        Returns True if all characters in the string are digits\n",
    "### isidentifier()\t\n",
    "        Returns True if the string is an identifier\n",
    "### islower()\t\n",
    "        Returns True if all characters in the string are lower case\n",
    "### isnumeric()\t\n",
    "        Returns True if all characters in the string are numeric\n",
    "### isprintable()\t\n",
    "        Returns True if all characters in the string are printable\n",
    "### isspace()\t\n",
    "        Returns True if all characters in the string are whitespaces\n",
    "### istitle()\t\n",
    "        Returns True if the string follows the rules of a title\n",
    "### isupper()\t\n",
    "        Returns True if all characters in the string are upper case\n",
    "### join()\t\n",
    "        Joins the elements of an iterable to the end of the string\n",
    "### ljust()\t\n",
    "        Returns a left justified version of the string\n",
    "### lower()\t\n",
    "        Converts a string into lower case\n",
    "### lstrip()\t\n",
    "        Returns a left trim version of the string\n",
    "### maketrans()\t\n",
    "        Returns a translation table to be used in translations\n",
    "### partition()\t\n",
    "        Returns a tuple where the string is parted into three parts\n",
    "### replace()\t\n",
    "        Returns a string where a specified value is replaced with a specified value\n",
    "### rfind()\t\n",
    "        Searches the string for a specified value and returns the last position of where it was found\n",
    "### rindex()\t\n",
    "        Searches the string for a specified value and returns the last position of where it was found\n",
    "### rjust()\t\n",
    "        Returns a right justified version of the string\n",
    "### rpartition()\t\n",
    "        Returns a tuple where the string is parted into three parts\n",
    "### rsplit()\t\n",
    "        Splits the string at the specified separator, and returns a list\n",
    "### rstrip()\t\n",
    "        Returns a right trim version of the string\n",
    "### split()\t\n",
    "        Splits the string at the specified separator, and returns a list\n",
    "### splitlines()\t\n",
    "        Splits the string at line breaks and returns a list\n",
    "### startswith()\t\n",
    "        Returns true if the string starts with the specified value\n",
    "### strip()\t\n",
    "        Returns a trimmed version of the string\n",
    "### swapcase()\t\n",
    "        Swaps cases, lower case becomes upper case and vice versa\n",
    "### title()\t\n",
    "        Converts the first character of each word to upper case\n",
    "### translate()\t\n",
    "        Returns a translated string\n",
    "### upper()\t\n",
    "        Converts a string into upper case\n",
    "### zfill()\t\n",
    "        Fills the string with a specified number of 0 values at the beginning\n"
   ]
  },
  {
   "cell_type": "code",
   "execution_count": 76,
   "id": "18bd2767",
   "metadata": {
    "scrolled": true
   },
   "outputs": [
    {
     "name": "stdout",
     "output_type": "stream",
     "text": [
      "I am vipul kumar\n",
      "i am vipul kumar\n",
      "  I am Vipul Kumar  \n",
      "1\n",
      "b'I am Vipul Kumar'\n",
      "True\n",
      "I am Vipul Kumar\n",
      "5\n",
      "I have 5     chickens.\n",
      "5\n",
      "False\n",
      "False\n",
      "False\n",
      "False\n",
      "False\n",
      "False\n",
      "True\n",
      "False\n",
      "False\n",
      "False\n",
      "Vipul,Peter,Vicky\n",
      "nameTESTcountry\n",
      "banana               is my favorite fruit.\n",
      "banana\n",
      "Hello Pam!\n"
     ]
    }
   ],
   "source": [
    "txt = \"I am Vipul Kumar\"\n",
    "txt1 = \"I have {:<5} chickens.\"\n",
    "myTuple = (\"Vipul\", \"Peter\", \"Vicky\")\n",
    "print(txt.capitalize())\n",
    "print(txt.casefold())\n",
    "print(txt.center(20))\n",
    "print(txt.count('Vipul'))\n",
    "print(txt.encode())\n",
    "print(txt.endswith('r'))\n",
    "print(txt.expandtabs(2))\n",
    "print(txt.find('Vipul'))\n",
    "print(txt1.format(5))\n",
    "# print(txt1.format_map(5))\n",
    "print(txt.index('Vipul'))\n",
    "print(txt.isalpha())\n",
    "print(txt.isdecimal())\n",
    "print(txt.isdigit())\n",
    "print(txt.isidentifier()) #Check Identifier\n",
    "print(txt.islower())\n",
    "print(txt.isnumeric())\n",
    "print(txt.isprintable())\n",
    "print(txt.isspace())\n",
    "print(txt.istitle())\n",
    "print(txt.isupper())\n",
    "print(\",\".join(myTuple))\n",
    "myDict = {\"name\": \"John\", \"country\": \"Norway\"}\n",
    "mySeparator = \"TEST\"\n",
    "\n",
    "x = mySeparator.join(myDict)\n",
    "\n",
    "print(x)\n",
    "txt = \"banana\"\n",
    "\n",
    "x = txt.ljust(20)\n",
    "\n",
    "print(x, \"is my favorite fruit.\")\n",
    "print(txt.lower())\n",
    "txt = \"Hello Sam!\"\n",
    "mytable = txt.maketrans(\"S\", \"P\")\n",
    "print(txt.translate(mytable))\n"
   ]
  },
  {
   "cell_type": "code",
   "execution_count": null,
   "id": "52b80963",
   "metadata": {},
   "outputs": [],
   "source": []
  }
 ],
 "metadata": {
  "kernelspec": {
   "display_name": "Python 3",
   "language": "python",
   "name": "python3"
  },
  "language_info": {
   "codemirror_mode": {
    "name": "ipython",
    "version": 3
   },
   "file_extension": ".py",
   "mimetype": "text/x-python",
   "name": "python",
   "nbconvert_exporter": "python",
   "pygments_lexer": "ipython3",
   "version": "3.8.8"
  }
 },
 "nbformat": 4,
 "nbformat_minor": 5
}
